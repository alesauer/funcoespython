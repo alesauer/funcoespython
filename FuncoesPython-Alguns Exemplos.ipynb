{
 "cells": [
  {
   "cell_type": "markdown",
   "id": "7c3c8671",
   "metadata": {},
   "source": [
    "Algumas Funções Python que você deve saber na ponta da língua"
   ]
  },
  {
   "cell_type": "markdown",
   "id": "37c1773b",
   "metadata": {},
   "source": [
    "##### 👉 sorted()\n",
    "###### Ordena dados de forma simples—em ordem crescente ou decrescente! Ideal para organizar arrays ou encontrar medianas."
   ]
  },
  {
   "cell_type": "code",
   "execution_count": 3,
   "id": "sorted-example",
   "metadata": {},
   "outputs": [
    {
     "name": "stdout",
     "output_type": "stream",
     "text": [
      "[9, 9, 8, 8, 8, 7, 7, 7, 6, 5, 5, 4, 4, 3, 2, 1]\n"
     ]
    }
   ],
   "source": [
    "numeros = [8,7,3,4,5,6,7,9,8,1,2,4,5,7,8,9]\n",
    "ordenados = sorted(numeros,reverse=True)\n",
    "print(ordenados)"
   ]
  },
  {
   "cell_type": "markdown",
   "id": "810bf7a2",
   "metadata": {},
   "source": [
    "##### 👉 zip()\n",
    "###### Agrupa dados como um verdadeiro profissional. Combine listas, tuplas ou iteráveis com facilidade."
   ]
  },
  {
   "cell_type": "code",
   "execution_count": 4,
   "id": "zip-example",
   "metadata": {},
   "outputs": [
    {
     "name": "stdout",
     "output_type": "stream",
     "text": [
      "[('Sauer', 25), ('Fred', 30), ('Cris', 35)]\n"
     ]
    }
   ],
   "source": [
    "nome = [\"Sauer\",\"Fred\",\"Cris\"]\n",
    "idade = [25,30,35]\n",
    "combinado = list(zip(nome,idade))\n",
    "print(combinado)"
   ]
  },
  {
   "cell_type": "markdown",
   "id": "38bf7d27",
   "metadata": {},
   "source": [
    "##### 👉 max() / min()\n",
    "###### Encontre rapidamente o maior ou menor elemento. Perfeito para problemas de otimização e manipulação de arrays."
   ]
  },
  {
   "cell_type": "code",
   "execution_count": 7,
   "id": "max-min-example",
   "metadata": {},
   "outputs": [
    {
     "name": "stdout",
     "output_type": "stream",
     "text": [
      "2457\n",
      "2435645\n"
     ]
    }
   ],
   "source": [
    "valores = [234566,23405,35467,2457,23769,977635,2435645]\n",
    "print(min(valores))\n",
    "print(max(valores))\n"
   ]
  },
  {
   "cell_type": "markdown",
   "id": "47eb4b89",
   "metadata": {},
   "source": [
    "##### 👉 enumerate()\n",
    "###### Percorra listas de forma inteligente! Acompanhe os índices sem precisar criar contadores manuais. Essencial para trabalhar com estruturas de dados."
   ]
  },
  {
   "cell_type": "code",
   "execution_count": null,
   "id": "enumerate-example",
   "metadata": {},
   "outputs": [],
   "source": [
    "lista = ['a','b','c','d','e','f','g','h','i','j','k','l','m','n']\n",
    "for indice, letras in enumerate(lista):\n",
    "    print(f\"indice: {indice} letra: {letras}\")\n",
    "\n"
   ]
  },
  {
   "cell_type": "markdown",
   "id": "281b46e1",
   "metadata": {},
   "source": [
    "##### 👉 map()\n",
    "###### Transforme coleções com elegância. Aplique funções a iteráveis em apenas uma linha de código."
   ]
  },
  {
   "cell_type": "code",
   "execution_count": 13,
   "id": "map-example",
   "metadata": {},
   "outputs": [
    {
     "name": "stdout",
     "output_type": "stream",
     "text": [
      "[1, 4, 9, 16, 25, 36, 49, 64, 81, 100]\n"
     ]
    }
   ],
   "source": [
    "numeros = [1,2,3,4,5,6,7,8,9,10]\n",
    "quadrado = list(map(lambda x: x**2,numeros))\n",
    "print(quadrado)"
   ]
  },
  {
   "cell_type": "markdown",
   "id": "ec982dda",
   "metadata": {},
   "source": [
    "##### 👉 itertools.combinations()\n",
    "###### Gere todos os subconjuntos ou combinações possíveis. Essencial para resolver problemas de combinações ou subconjuntos."
   ]
  },
  {
   "cell_type": "code",
   "execution_count": null,
   "id": "itertools-example",
   "metadata": {},
   "outputs": [],
   "source": [
    "from itertools import combinations\n",
    "\n",
    "dados = [1,2,3,4]\n",
    "\n",
    "combinacoes = list(combinations(dados,2))\n",
    "print(combinacoes)\n"
   ]
  },
  {
   "cell_type": "markdown",
   "id": "d110b763",
   "metadata": {},
   "source": [
    "##### 👉 collections.Counter()\n",
    "###### Conte frequências em questão de segundos. Ideal para histogramas ou rastrear ocorrências em dados."
   ]
  },
  {
   "cell_type": "code",
   "execution_count": null,
   "id": "counter-example",
   "metadata": {},
   "outputs": [],
   "source": []
  }
 ],
 "metadata": {
  "kernelspec": {
   "display_name": "Python 3",
   "language": "python",
   "name": "python3"
  },
  "language_info": {
   "codemirror_mode": {
    "name": "ipython",
    "version": 3
   },
   "file_extension": ".py",
   "mimetype": "text/x-python",
   "name": "python",
   "nbconvert_exporter": "python",
   "pygments_lexer": "ipython3",
   "version": "3.12.5"
  }
 },
 "nbformat": 4,
 "nbformat_minor": 5
}
